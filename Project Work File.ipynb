{
 "cells": [
  {
   "cell_type": "markdown",
   "id": "bf5e7437",
   "metadata": {},
   "source": [
    "### BLACK LITTERMAN MODEL "
   ]
  },
  {
   "cell_type": "code",
   "execution_count": 1,
   "id": "e0b1fec3",
   "metadata": {},
   "outputs": [],
   "source": [
    "import pandas as pd \n",
    "import numpy as np\n",
    "import matplotlib.pyplot as plt \n",
    "import scipy.optimize as sci_plt\n",
    "from sklearn.preprocessing import StandardScaler \n",
    "import seaborn as sns\n",
    "import os \n",
    "from pprint import pprint\n",
    "from pypfopt import EfficientFrontier, objective_functions\n",
    "from pypfopt import black_litterman, risk_models\n",
    "from pypfopt import BlackLittermanModel, plotting\n",
    "from pypfopt import DiscreteAllocation\n",
    "os.chdir('C://MyPython')"
   ]
  },
  {
   "cell_type": "code",
   "execution_count": 2,
   "id": "34d831df",
   "metadata": {},
   "outputs": [],
   "source": [
    "portfolio = pd.read_csv('PROJECT WORK DATA.csv',infer_datetime_format=True,index_col=0)"
   ]
  },
  {
   "cell_type": "code",
   "execution_count": 3,
   "id": "1b649315",
   "metadata": {},
   "outputs": [
    {
     "data": {
      "text/html": [
       "<div>\n",
       "<style scoped>\n",
       "    .dataframe tbody tr th:only-of-type {\n",
       "        vertical-align: middle;\n",
       "    }\n",
       "\n",
       "    .dataframe tbody tr th {\n",
       "        vertical-align: top;\n",
       "    }\n",
       "\n",
       "    .dataframe thead th {\n",
       "        text-align: right;\n",
       "    }\n",
       "</style>\n",
       "<table border=\"1\" class=\"dataframe\">\n",
       "  <thead>\n",
       "    <tr style=\"text-align: right;\">\n",
       "      <th></th>\n",
       "      <th>BOPP</th>\n",
       "      <th>CAL</th>\n",
       "      <th>CMLT</th>\n",
       "      <th>CPC</th>\n",
       "      <th>GCB</th>\n",
       "      <th>GGBL</th>\n",
       "      <th>SIC</th>\n",
       "      <th>SOGEGH</th>\n",
       "      <th>TOTAL</th>\n",
       "      <th>TLW</th>\n",
       "    </tr>\n",
       "    <tr>\n",
       "      <th>Daily Date</th>\n",
       "      <th></th>\n",
       "      <th></th>\n",
       "      <th></th>\n",
       "      <th></th>\n",
       "      <th></th>\n",
       "      <th></th>\n",
       "      <th></th>\n",
       "      <th></th>\n",
       "      <th></th>\n",
       "      <th></th>\n",
       "    </tr>\n",
       "  </thead>\n",
       "  <tbody>\n",
       "    <tr>\n",
       "      <th>28-3-2024</th>\n",
       "      <td>21.53</td>\n",
       "      <td>0.42</td>\n",
       "      <td>0.1</td>\n",
       "      <td>0.02</td>\n",
       "      <td>3.43</td>\n",
       "      <td>4.44</td>\n",
       "      <td>0.24</td>\n",
       "      <td>1.57</td>\n",
       "      <td>9.5</td>\n",
       "      <td>11.92</td>\n",
       "    </tr>\n",
       "    <tr>\n",
       "      <th>27-3-2024</th>\n",
       "      <td>21.53</td>\n",
       "      <td>0.42</td>\n",
       "      <td>0.1</td>\n",
       "      <td>0.02</td>\n",
       "      <td>3.43</td>\n",
       "      <td>4.44</td>\n",
       "      <td>0.24</td>\n",
       "      <td>1.57</td>\n",
       "      <td>9.5</td>\n",
       "      <td>11.92</td>\n",
       "    </tr>\n",
       "    <tr>\n",
       "      <th>26-3-2024</th>\n",
       "      <td>21.53</td>\n",
       "      <td>0.46</td>\n",
       "      <td>0.1</td>\n",
       "      <td>0.02</td>\n",
       "      <td>3.43</td>\n",
       "      <td>4.44</td>\n",
       "      <td>0.24</td>\n",
       "      <td>1.57</td>\n",
       "      <td>9.5</td>\n",
       "      <td>11.92</td>\n",
       "    </tr>\n",
       "    <tr>\n",
       "      <th>25-3-2024</th>\n",
       "      <td>21.53</td>\n",
       "      <td>0.46</td>\n",
       "      <td>0.1</td>\n",
       "      <td>0.02</td>\n",
       "      <td>3.43</td>\n",
       "      <td>4.44</td>\n",
       "      <td>0.24</td>\n",
       "      <td>1.57</td>\n",
       "      <td>9.5</td>\n",
       "      <td>11.92</td>\n",
       "    </tr>\n",
       "    <tr>\n",
       "      <th>22-3-2024</th>\n",
       "      <td>21.53</td>\n",
       "      <td>0.47</td>\n",
       "      <td>0.1</td>\n",
       "      <td>0.02</td>\n",
       "      <td>3.43</td>\n",
       "      <td>4.44</td>\n",
       "      <td>0.24</td>\n",
       "      <td>1.57</td>\n",
       "      <td>9.5</td>\n",
       "      <td>11.92</td>\n",
       "    </tr>\n",
       "  </tbody>\n",
       "</table>\n",
       "</div>"
      ],
      "text/plain": [
       "             BOPP   CAL  CMLT   CPC   GCB  GGBL   SIC  SOGEGH  TOTAL    TLW\n",
       "Daily Date                                                                 \n",
       "28-3-2024   21.53  0.42   0.1  0.02  3.43  4.44  0.24    1.57    9.5  11.92\n",
       "27-3-2024   21.53  0.42   0.1  0.02  3.43  4.44  0.24    1.57    9.5  11.92\n",
       "26-3-2024   21.53  0.46   0.1  0.02  3.43  4.44  0.24    1.57    9.5  11.92\n",
       "25-3-2024   21.53  0.46   0.1  0.02  3.43  4.44  0.24    1.57    9.5  11.92\n",
       "22-3-2024   21.53  0.47   0.1  0.02  3.43  4.44  0.24    1.57    9.5  11.92"
      ]
     },
     "execution_count": 3,
     "metadata": {},
     "output_type": "execute_result"
    }
   ],
   "source": [
    "portfolio.head()"
   ]
  },
  {
   "cell_type": "code",
   "execution_count": 4,
   "id": "503d8be5",
   "metadata": {},
   "outputs": [
    {
     "name": "stdout",
     "output_type": "stream",
     "text": [
      "<class 'pandas.core.frame.DataFrame'>\n",
      "Index: 2526 entries, 28-3-2024 to 2/1/2014\n",
      "Data columns (total 10 columns):\n",
      " #   Column  Non-Null Count  Dtype  \n",
      "---  ------  --------------  -----  \n",
      " 0   BOPP    2526 non-null   float64\n",
      " 1   CAL     2526 non-null   float64\n",
      " 2   CMLT    2526 non-null   float64\n",
      " 3   CPC     2526 non-null   float64\n",
      " 4   GCB     1894 non-null   float64\n",
      " 5   GGBL    2526 non-null   float64\n",
      " 6   SIC     2526 non-null   float64\n",
      " 7   SOGEGH  2526 non-null   float64\n",
      " 8   TOTAL   2526 non-null   float64\n",
      " 9   TLW     2526 non-null   float64\n",
      "dtypes: float64(10)\n",
      "memory usage: 217.1+ KB\n"
     ]
    }
   ],
   "source": [
    "portfolio.info()"
   ]
  },
  {
   "cell_type": "code",
   "execution_count": 5,
   "id": "eaf92ba6",
   "metadata": {},
   "outputs": [
    {
     "data": {
      "text/plain": [
       "BOPP        0\n",
       "CAL         0\n",
       "CMLT        0\n",
       "CPC         0\n",
       "GCB       632\n",
       "GGBL        0\n",
       "SIC         0\n",
       "SOGEGH      0\n",
       "TOTAL       0\n",
       "TLW         0\n",
       "dtype: int64"
      ]
     },
     "execution_count": 5,
     "metadata": {},
     "output_type": "execute_result"
    }
   ],
   "source": [
    "portfolio.isnull().sum()"
   ]
  },
  {
   "cell_type": "code",
   "execution_count": 6,
   "id": "472ee134",
   "metadata": {},
   "outputs": [
    {
     "data": {
      "text/plain": [
       "BOPP      0\n",
       "CAL       0\n",
       "CMLT      0\n",
       "CPC       0\n",
       "GCB       0\n",
       "GGBL      0\n",
       "SIC       0\n",
       "SOGEGH    0\n",
       "TOTAL     0\n",
       "TLW       0\n",
       "dtype: int64"
      ]
     },
     "execution_count": 6,
     "metadata": {},
     "output_type": "execute_result"
    }
   ],
   "source": [
    "portfolio['GCB'].fillna(portfolio['GCB'].mean(), inplace=True)\n",
    "portfolio.isnull().sum()"
   ]
  },
  {
   "cell_type": "code",
   "execution_count": 7,
   "id": "53a63717",
   "metadata": {},
   "outputs": [],
   "source": [
    "market_prices  = pd.read_csv('GSE COMPOSITE INDEX.csv',index_col=0, parse_dates=True)"
   ]
  },
  {
   "cell_type": "code",
   "execution_count": 8,
   "id": "2ad0598e",
   "metadata": {},
   "outputs": [
    {
     "name": "stdout",
     "output_type": "stream",
     "text": [
      "            Unnamed: 1\n",
      "Dates                 \n",
      "2024-02-28        3390\n",
      "2024-02-27        3430\n",
      "2024-02-26        3480\n",
      "2024-02-25        3480\n",
      "2024-02-23        3585\n"
     ]
    }
   ],
   "source": [
    "print(market_prices.head())"
   ]
  },
  {
   "cell_type": "code",
   "execution_count": 9,
   "id": "31530193",
   "metadata": {},
   "outputs": [
    {
     "data": {
      "text/html": [
       "<div>\n",
       "<style scoped>\n",
       "    .dataframe tbody tr th:only-of-type {\n",
       "        vertical-align: middle;\n",
       "    }\n",
       "\n",
       "    .dataframe tbody tr th {\n",
       "        vertical-align: top;\n",
       "    }\n",
       "\n",
       "    .dataframe thead th {\n",
       "        text-align: right;\n",
       "    }\n",
       "</style>\n",
       "<table border=\"1\" class=\"dataframe\">\n",
       "  <thead>\n",
       "    <tr style=\"text-align: right;\">\n",
       "      <th></th>\n",
       "      <th>BOPP</th>\n",
       "      <th>CAL</th>\n",
       "      <th>CMLT</th>\n",
       "      <th>CPC</th>\n",
       "      <th>GCB</th>\n",
       "      <th>GGBL</th>\n",
       "      <th>SIC</th>\n",
       "      <th>SOGEGH</th>\n",
       "      <th>TOTAL</th>\n",
       "      <th>TLW</th>\n",
       "    </tr>\n",
       "  </thead>\n",
       "  <tbody>\n",
       "    <tr>\n",
       "      <th>BOPP</th>\n",
       "      <td>0.414328</td>\n",
       "      <td>-0.054338</td>\n",
       "      <td>0.002981</td>\n",
       "      <td>0.000490</td>\n",
       "      <td>-0.028264</td>\n",
       "      <td>0.113715</td>\n",
       "      <td>-0.045953</td>\n",
       "      <td>0.102023</td>\n",
       "      <td>0.208302</td>\n",
       "      <td>0.000145</td>\n",
       "    </tr>\n",
       "    <tr>\n",
       "      <th>CAL</th>\n",
       "      <td>-0.054338</td>\n",
       "      <td>0.172484</td>\n",
       "      <td>0.001374</td>\n",
       "      <td>-0.002678</td>\n",
       "      <td>0.006827</td>\n",
       "      <td>-0.024228</td>\n",
       "      <td>0.009668</td>\n",
       "      <td>-0.021755</td>\n",
       "      <td>-0.040447</td>\n",
       "      <td>0.000195</td>\n",
       "    </tr>\n",
       "    <tr>\n",
       "      <th>CMLT</th>\n",
       "      <td>0.002981</td>\n",
       "      <td>0.001374</td>\n",
       "      <td>0.081839</td>\n",
       "      <td>-0.000116</td>\n",
       "      <td>-0.000168</td>\n",
       "      <td>0.000323</td>\n",
       "      <td>0.001692</td>\n",
       "      <td>0.000499</td>\n",
       "      <td>-0.000193</td>\n",
       "      <td>0.000010</td>\n",
       "    </tr>\n",
       "    <tr>\n",
       "      <th>CPC</th>\n",
       "      <td>0.000490</td>\n",
       "      <td>-0.002678</td>\n",
       "      <td>-0.000116</td>\n",
       "      <td>1.297809</td>\n",
       "      <td>0.014017</td>\n",
       "      <td>0.013659</td>\n",
       "      <td>0.029081</td>\n",
       "      <td>-0.009913</td>\n",
       "      <td>-0.002530</td>\n",
       "      <td>0.004206</td>\n",
       "    </tr>\n",
       "    <tr>\n",
       "      <th>GCB</th>\n",
       "      <td>-0.028264</td>\n",
       "      <td>0.006827</td>\n",
       "      <td>-0.000168</td>\n",
       "      <td>0.014017</td>\n",
       "      <td>0.104329</td>\n",
       "      <td>-0.011704</td>\n",
       "      <td>0.005954</td>\n",
       "      <td>-0.011538</td>\n",
       "      <td>-0.020240</td>\n",
       "      <td>0.000191</td>\n",
       "    </tr>\n",
       "    <tr>\n",
       "      <th>GGBL</th>\n",
       "      <td>0.113715</td>\n",
       "      <td>-0.024228</td>\n",
       "      <td>0.000323</td>\n",
       "      <td>0.013659</td>\n",
       "      <td>-0.011704</td>\n",
       "      <td>0.152901</td>\n",
       "      <td>-0.019397</td>\n",
       "      <td>0.043675</td>\n",
       "      <td>0.083381</td>\n",
       "      <td>0.000038</td>\n",
       "    </tr>\n",
       "    <tr>\n",
       "      <th>SIC</th>\n",
       "      <td>-0.045953</td>\n",
       "      <td>0.009668</td>\n",
       "      <td>0.001692</td>\n",
       "      <td>0.029081</td>\n",
       "      <td>0.005954</td>\n",
       "      <td>-0.019397</td>\n",
       "      <td>0.221496</td>\n",
       "      <td>-0.014769</td>\n",
       "      <td>-0.038127</td>\n",
       "      <td>0.000138</td>\n",
       "    </tr>\n",
       "    <tr>\n",
       "      <th>SOGEGH</th>\n",
       "      <td>0.102023</td>\n",
       "      <td>-0.021755</td>\n",
       "      <td>0.000499</td>\n",
       "      <td>-0.009913</td>\n",
       "      <td>-0.011538</td>\n",
       "      <td>0.043675</td>\n",
       "      <td>-0.014769</td>\n",
       "      <td>0.153767</td>\n",
       "      <td>0.073642</td>\n",
       "      <td>-0.000322</td>\n",
       "    </tr>\n",
       "    <tr>\n",
       "      <th>TOTAL</th>\n",
       "      <td>0.208302</td>\n",
       "      <td>-0.040447</td>\n",
       "      <td>-0.000193</td>\n",
       "      <td>-0.002530</td>\n",
       "      <td>-0.020240</td>\n",
       "      <td>0.083381</td>\n",
       "      <td>-0.038127</td>\n",
       "      <td>0.073642</td>\n",
       "      <td>0.273005</td>\n",
       "      <td>-0.000178</td>\n",
       "    </tr>\n",
       "    <tr>\n",
       "      <th>TLW</th>\n",
       "      <td>0.000145</td>\n",
       "      <td>0.000195</td>\n",
       "      <td>0.000010</td>\n",
       "      <td>0.004206</td>\n",
       "      <td>0.000191</td>\n",
       "      <td>0.000038</td>\n",
       "      <td>0.000138</td>\n",
       "      <td>-0.000322</td>\n",
       "      <td>-0.000178</td>\n",
       "      <td>0.079146</td>\n",
       "    </tr>\n",
       "  </tbody>\n",
       "</table>\n",
       "</div>"
      ],
      "text/plain": [
       "            BOPP       CAL      CMLT       CPC       GCB      GGBL       SIC  \\\n",
       "BOPP    0.414328 -0.054338  0.002981  0.000490 -0.028264  0.113715 -0.045953   \n",
       "CAL    -0.054338  0.172484  0.001374 -0.002678  0.006827 -0.024228  0.009668   \n",
       "CMLT    0.002981  0.001374  0.081839 -0.000116 -0.000168  0.000323  0.001692   \n",
       "CPC     0.000490 -0.002678 -0.000116  1.297809  0.014017  0.013659  0.029081   \n",
       "GCB    -0.028264  0.006827 -0.000168  0.014017  0.104329 -0.011704  0.005954   \n",
       "GGBL    0.113715 -0.024228  0.000323  0.013659 -0.011704  0.152901 -0.019397   \n",
       "SIC    -0.045953  0.009668  0.001692  0.029081  0.005954 -0.019397  0.221496   \n",
       "SOGEGH  0.102023 -0.021755  0.000499 -0.009913 -0.011538  0.043675 -0.014769   \n",
       "TOTAL   0.208302 -0.040447 -0.000193 -0.002530 -0.020240  0.083381 -0.038127   \n",
       "TLW     0.000145  0.000195  0.000010  0.004206  0.000191  0.000038  0.000138   \n",
       "\n",
       "          SOGEGH     TOTAL       TLW  \n",
       "BOPP    0.102023  0.208302  0.000145  \n",
       "CAL    -0.021755 -0.040447  0.000195  \n",
       "CMLT    0.000499 -0.000193  0.000010  \n",
       "CPC    -0.009913 -0.002530  0.004206  \n",
       "GCB    -0.011538 -0.020240  0.000191  \n",
       "GGBL    0.043675  0.083381  0.000038  \n",
       "SIC    -0.014769 -0.038127  0.000138  \n",
       "SOGEGH  0.153767  0.073642 -0.000322  \n",
       "TOTAL   0.073642  0.273005 -0.000178  \n",
       "TLW    -0.000322 -0.000178  0.079146  "
      ]
     },
     "execution_count": 9,
     "metadata": {},
     "output_type": "execute_result"
    }
   ],
   "source": [
    "#Calculate Sigma and Delta to get implied market returns\n",
    "#Ledoit-Wolf is a particular form of shrinkage, where the shrinkage coefficient is computed using O?\n",
    "S = risk_models.CovarianceShrinkage(portfolio).ledoit_wolf()\n",
    "S"
   ]
  },
  {
   "cell_type": "code",
   "execution_count": 10,
   "id": "8c826ead",
   "metadata": {},
   "outputs": [
    {
     "name": "stdout",
     "output_type": "stream",
     "text": [
      "0.2231349865364395\n"
     ]
    }
   ],
   "source": [
    "delta = black_litterman.market_implied_risk_aversion(market_prices['Unnamed: 1'])\n",
    "print(delta)"
   ]
  },
  {
   "cell_type": "code",
   "execution_count": 11,
   "id": "63de5e43",
   "metadata": {},
   "outputs": [
    {
     "data": {
      "text/plain": [
       "<AxesSubplot:>"
      ]
     },
     "execution_count": 11,
     "metadata": {},
     "output_type": "execute_result"
    },
    {
     "data": {
      "image/png": "[encoded data removed]",
      "text/plain": [
       "<Figure size 600x500 with 2 Axes>"
      ]
     },
     "metadata": {},
     "output_type": "display_data"
    }
   ],
   "source": [
    "#Visualize the Covariant Correlation\n",
    "fig, ax = plt.subplots(figsize=(6,5))\n",
    "sns.heatmap(S.corr(),cmap ='coolwarm',annot = True)"
   ]
  },
  {
   "cell_type": "code",
   "execution_count": 12,
   "id": "b75dc4cf",
   "metadata": {},
   "outputs": [],
   "source": [
    "mcaps = {'BOPP':335820000,'CAL':319560000,'CMLT':68000000,\n",
    "        'CPC':68000000,'GCB':834750000,\n",
    "        'GGBL':516760000,'SIC':60650000,\n",
    "        'SOGEGH':638230000,'TOTAL':465400000,\n",
    "         'TLW':17163880000}"
   ]
  },
  {
   "cell_type": "code",
   "execution_count": 13,
   "id": "f90eb2d1",
   "metadata": {},
   "outputs": [
    {
     "data": {
      "text/plain": [
       "{'BOPP': 335820000,\n",
       " 'CAL': 319560000,\n",
       " 'CMLT': 68000000,\n",
       " 'CPC': 68000000,\n",
       " 'GCB': 834750000,\n",
       " 'GGBL': 516760000,\n",
       " 'SIC': 60650000,\n",
       " 'SOGEGH': 638230000,\n",
       " 'TOTAL': 465400000,\n",
       " 'TLW': 17163880000}"
      ]
     },
     "execution_count": 13,
     "metadata": {},
     "output_type": "execute_result"
    }
   ],
   "source": [
    "mcaps"
   ]
  },
  {
   "cell_type": "code",
   "execution_count": 14,
   "id": "21380703",
   "metadata": {},
   "outputs": [],
   "source": [
    "market_prior = black_litterman.market_implied_prior_returns(mcaps, delta, S)\n"
   ]
  },
  {
   "cell_type": "code",
   "execution_count": 15,
   "id": "b41a0f66",
   "metadata": {},
   "outputs": [
    {
     "data": {
      "text/plain": [
       "BOPP      0.023476\n",
       "CAL       0.020013\n",
       "CMLT      0.020082\n",
       "CPC       0.021883\n",
       "GCB       0.020671\n",
       "GGBL      0.021818\n",
       "SIC       0.019709\n",
       "SOGEGH    0.021805\n",
       "TOTAL     0.022744\n",
       "TLW       0.034810\n",
       "dtype: float64"
      ]
     },
     "execution_count": 15,
     "metadata": {},
     "output_type": "execute_result"
    }
   ],
   "source": [
    "market_prior"
   ]
  },
  {
   "cell_type": "code",
   "execution_count": 16,
   "id": "0e61e79a",
   "metadata": {},
   "outputs": [
    {
     "data": {
      "image/png": "[encoded data removed]",
      "text/plain": [
       "<Figure size 1000x500 with 1 Axes>"
      ]
     },
     "metadata": {},
     "output_type": "display_data"
    }
   ],
   "source": [
    "market_prior.plot.barh(figsize=(10,5));"
   ]
  },
  {
   "cell_type": "code",
   "execution_count": 17,
   "id": "a6328b3e",
   "metadata": {},
   "outputs": [],
   "source": [
    "#You don't have to provide views on all the assets\n",
    "viewdict = {'BOPP':-0.02,'CAL':-0.11,'CMLT':-0.1,\n",
    "           'CPC':-0.33,'GCB':0.003,\n",
    "           'GGBL':0.3,'SIC':0.2,\n",
    "           'SOGEGH':0.09,'TOTAL':0.05,'TLW':-0.002}"
   ]
  },
  {
   "cell_type": "code",
   "execution_count": 18,
   "id": "c54d7b84",
   "metadata": {},
   "outputs": [],
   "source": [
    "intervals = [\n",
    "    (0, 0.25),\n",
    "    (0.1, 0.4),\n",
    "    (-0.1, 0.15),\n",
    "    (-0.05, 0.1),\n",
    "    (0.15, 0.25),\n",
    "    (-0.1, 0),\n",
    "    (0.1, 0.2),\n",
    "    (0.08, 0.12),\n",
    "    (0.1, 0.9),\n",
    "    (0, 0.3)]"
   ]
  },
  {
   "cell_type": "code",
   "execution_count": 19,
   "id": "296e5088",
   "metadata": {},
   "outputs": [
    {
     "name": "stdout",
     "output_type": "stream",
     "text": [
      "[0.015625, 0.022500000000000006, 0.015625, 0.0056250000000000015, 0.0025000000000000005, 0.0025000000000000005, 0.0025000000000000005, 0.00039999999999999986, 0.16000000000000003, 0.0225]\n"
     ]
    }
   ],
   "source": [
    "variances = []\n",
    "for lb, ub in intervals:\n",
    "    sigma = (ub - lb)/2\n",
    "    variances.append(sigma ** 2)\n",
    "\n",
    "print(variances)\n",
    "omega = np.diag(variances)"
   ]
  },
  {
   "cell_type": "code",
   "execution_count": 20,
   "id": "29449019",
   "metadata": {},
   "outputs": [],
   "source": [
    "bl = BlackLittermanModel(S, pi=\"market\", market_caps=mcaps, risk_aversion=delta,\n",
    "                        absolute_views=viewdict, omega=omega)"
   ]
  },
  {
   "cell_type": "code",
   "execution_count": 21,
   "id": "7a7eab0f",
   "metadata": {},
   "outputs": [
    {
     "data": {
      "text/plain": [
       "BOPP      0.069456\n",
       "CAL      -0.046392\n",
       "CMLT     -0.019803\n",
       "CPC      -0.299868\n",
       "GCB      -0.002457\n",
       "GGBL      0.217453\n",
       "SIC       0.157135\n",
       "SOGEGH    0.087321\n",
       "TOTAL     0.074869\n",
       "TLW       0.011358\n",
       "dtype: float64"
      ]
     },
     "execution_count": 21,
     "metadata": {},
     "output_type": "execute_result"
    }
   ],
   "source": [
    "ret_bl = bl.bl_returns()\n",
    "ret_bl"
   ]
  },
  {
   "cell_type": "code",
   "execution_count": 22,
   "id": "24d34e01",
   "metadata": {},
   "outputs": [
    {
     "data": {
      "text/html": [
       "<div>\n",
       "<style scoped>\n",
       "    .dataframe tbody tr th:only-of-type {\n",
       "        vertical-align: middle;\n",
       "    }\n",
       "\n",
       "    .dataframe tbody tr th {\n",
       "        vertical-align: top;\n",
       "    }\n",
       "\n",
       "    .dataframe thead th {\n",
       "        text-align: right;\n",
       "    }\n",
       "</style>\n",
       "<table border=\"1\" class=\"dataframe\">\n",
       "  <thead>\n",
       "    <tr style=\"text-align: right;\">\n",
       "      <th></th>\n",
       "      <th>Market_Returns</th>\n",
       "      <th>BL_Assets_Returns</th>\n",
       "      <th>Views</th>\n",
       "    </tr>\n",
       "  </thead>\n",
       "  <tbody>\n",
       "    <tr>\n",
       "      <th>BOPP</th>\n",
       "      <td>0.023476</td>\n",
       "      <td>0.069456</td>\n",
       "      <td>-0.020</td>\n",
       "    </tr>\n",
       "    <tr>\n",
       "      <th>CAL</th>\n",
       "      <td>0.020013</td>\n",
       "      <td>-0.046392</td>\n",
       "      <td>-0.110</td>\n",
       "    </tr>\n",
       "    <tr>\n",
       "      <th>CMLT</th>\n",
       "      <td>0.020082</td>\n",
       "      <td>-0.019803</td>\n",
       "      <td>-0.100</td>\n",
       "    </tr>\n",
       "    <tr>\n",
       "      <th>CPC</th>\n",
       "      <td>0.021883</td>\n",
       "      <td>-0.299868</td>\n",
       "      <td>-0.330</td>\n",
       "    </tr>\n",
       "    <tr>\n",
       "      <th>GCB</th>\n",
       "      <td>0.020671</td>\n",
       "      <td>-0.002457</td>\n",
       "      <td>0.003</td>\n",
       "    </tr>\n",
       "    <tr>\n",
       "      <th>GGBL</th>\n",
       "      <td>0.021818</td>\n",
       "      <td>0.217453</td>\n",
       "      <td>0.300</td>\n",
       "    </tr>\n",
       "    <tr>\n",
       "      <th>SIC</th>\n",
       "      <td>0.019709</td>\n",
       "      <td>0.157135</td>\n",
       "      <td>0.200</td>\n",
       "    </tr>\n",
       "    <tr>\n",
       "      <th>SOGEGH</th>\n",
       "      <td>0.021805</td>\n",
       "      <td>0.087321</td>\n",
       "      <td>0.090</td>\n",
       "    </tr>\n",
       "    <tr>\n",
       "      <th>TOTAL</th>\n",
       "      <td>0.022744</td>\n",
       "      <td>0.074869</td>\n",
       "      <td>0.050</td>\n",
       "    </tr>\n",
       "    <tr>\n",
       "      <th>TLW</th>\n",
       "      <td>0.034810</td>\n",
       "      <td>0.011358</td>\n",
       "      <td>-0.002</td>\n",
       "    </tr>\n",
       "  </tbody>\n",
       "</table>\n",
       "</div>"
      ],
      "text/plain": [
       "        Market_Returns  BL_Assets_Returns  Views\n",
       "BOPP          0.023476           0.069456 -0.020\n",
       "CAL           0.020013          -0.046392 -0.110\n",
       "CMLT          0.020082          -0.019803 -0.100\n",
       "CPC           0.021883          -0.299868 -0.330\n",
       "GCB           0.020671          -0.002457  0.003\n",
       "GGBL          0.021818           0.217453  0.300\n",
       "SIC           0.019709           0.157135  0.200\n",
       "SOGEGH        0.021805           0.087321  0.090\n",
       "TOTAL         0.022744           0.074869  0.050\n",
       "TLW           0.034810           0.011358 -0.002"
      ]
     },
     "execution_count": 22,
     "metadata": {},
     "output_type": "execute_result"
    }
   ],
   "source": [
    "rets_df = pd.DataFrame([market_prior, ret_bl, pd.Series(viewdict)],\n",
    "             index=[\"Market_Returns\", \"BL_Assets_Returns\", \"Views\"]).T\n",
    "rets_df"
   ]
  },
  {
   "cell_type": "code",
   "execution_count": 23,
   "id": "1c38a1db",
   "metadata": {},
   "outputs": [
    {
     "data": {
      "image/png": "[encoded data removed]",
      "text/plain": [
       "<Figure size 700x500 with 1 Axes>"
      ]
     },
     "metadata": {},
     "output_type": "display_data"
    }
   ],
   "source": [
    "rets_df.plot.bar(figsize=(7,5));"
   ]
  },
  {
   "cell_type": "code",
   "execution_count": 56,
   "id": "b2064ced",
   "metadata": {},
   "outputs": [
    {
     "name": "stderr",
     "output_type": "stream",
     "text": [
      "C:\\Users\\USER\\anaconda3\\lib\\site-packages\\pypfopt\\efficient_frontier\\efficient_frontier.py:259: UserWarning: max_sharpe transforms the optimization problem so additional objectives may not work as expected.\n",
      "  warnings.warn(\n"
     ]
    },
    {
     "data": {
      "text/plain": [
       "OrderedDict([('BOPP', 0.04528),\n",
       "             ('CAL', 0.0),\n",
       "             ('CMLT', 0.0),\n",
       "             ('CPC', 0.0),\n",
       "             ('GCB', 0.0),\n",
       "             ('GGBL', 0.43856),\n",
       "             ('SIC', 0.3067),\n",
       "             ('SOGEGH', 0.13112),\n",
       "             ('TOTAL', 0.07834),\n",
       "             ('TLW', 0.0)])"
      ]
     },
     "execution_count": 56,
     "metadata": {},
     "output_type": "execute_result"
    }
   ],
   "source": [
    "ef = EfficientFrontier(ret_bl, S)\n",
    "ef.add_objective(objective_functions.L2_reg)\n",
    "ef.max_sharpe()\n",
    "weights = ef.clean_weights()\n",
    "weights"
   ]
  },
  {
   "cell_type": "code",
   "execution_count": 57,
   "id": "72aa3c04",
   "metadata": {},
   "outputs": [
    {
     "data": {
      "image/png": "[encoded data removed]",
      "text/plain": [
       "<Figure size 500x600 with 1 Axes>"
      ]
     },
     "metadata": {},
     "output_type": "display_data"
    }
   ],
   "source": [
    "pd.Series(weights).plot.pie(figsize=(5,6));"
   ]
  },
  {
   "cell_type": "code",
   "execution_count": 26,
   "id": "57938575",
   "metadata": {},
   "outputs": [
    {
     "name": "stderr",
     "output_type": "stream",
     "text": [
      "C:\\Users\\USER\\anaconda3\\lib\\site-packages\\pypfopt\\efficient_frontier\\efficient_frontier.py:259: UserWarning: max_sharpe transforms the optimization problem so additional objectives may not work as expected.\n",
      "  warnings.warn(\n"
     ]
    },
    {
     "name": "stdout",
     "output_type": "stream",
     "text": [
      "Expected annual return: 16.4%\n",
      "Annual volatility: 25.6%\n",
      "Sharpe Ratio: 0.56\n"
     ]
    },
    {
     "name": "stderr",
     "output_type": "stream",
     "text": [
      "C:\\Users\\USER\\anaconda3\\lib\\site-packages\\pypfopt\\efficient_frontier\\efficient_frontier.py:441: UserWarning: The risk_free_rate provided to portfolio_performance is different to the one used by max_sharpe. Using the previous value.\n",
      "  warnings.warn(\n"
     ]
    },
    {
     "data": {
      "text/plain": [
       "(0.16401943571703137, 0.25567252091541337, 0.5632964981977032)"
      ]
     },
     "execution_count": 26,
     "metadata": {},
     "output_type": "execute_result"
    },
    {
     "data": {
      "image/png": "[encoded data removed]",
      "text/plain": [
       "<Figure size 640x480 with 1 Axes>"
      ]
     },
     "metadata": {},
     "output_type": "display_data"
    }
   ],
   "source": [
    "from pypfopt.plotting import plot_weights\n",
    "\n",
    "# Maximum Sharpe\n",
    "ef = EfficientFrontier(ret_bl, S)\n",
    "ef.add_objective(objective_functions.L2_reg)\n",
    "ef.max_sharpe()\n",
    "weights = ef.clean_weights()\n",
    "plot_weights(weights)\n",
    "ef.portfolio_performance(verbose = True, risk_free_rate = 0.25)"
   ]
  },
  {
   "cell_type": "markdown",
   "id": "c3efd111",
   "metadata": {},
   "source": [
    "### MEAN VARIANCE PORTFOLIO MODEL"
   ]
  },
  {
   "cell_type": "code",
   "execution_count": 27,
   "id": "7ce04572",
   "metadata": {},
   "outputs": [],
   "source": [
    "import math"
   ]
  },
  {
   "cell_type": "code",
   "execution_count": 28,
   "id": "c87e87db",
   "metadata": {},
   "outputs": [],
   "source": [
    "portfolio1 = pd.read_csv('PROJECT WORK DATA.csv',infer_datetime_format=True,index_col=0)"
   ]
  },
  {
   "cell_type": "code",
   "execution_count": 29,
   "id": "0a9c0503",
   "metadata": {},
   "outputs": [
    {
     "data": {
      "text/html": [
       "<div>\n",
       "<style scoped>\n",
       "    .dataframe tbody tr th:only-of-type {\n",
       "        vertical-align: middle;\n",
       "    }\n",
       "\n",
       "    .dataframe tbody tr th {\n",
       "        vertical-align: top;\n",
       "    }\n",
       "\n",
       "    .dataframe thead th {\n",
       "        text-align: right;\n",
       "    }\n",
       "</style>\n",
       "<table border=\"1\" class=\"dataframe\">\n",
       "  <thead>\n",
       "    <tr style=\"text-align: right;\">\n",
       "      <th></th>\n",
       "      <th>BOPP</th>\n",
       "      <th>CAL</th>\n",
       "      <th>CMLT</th>\n",
       "      <th>CPC</th>\n",
       "      <th>GCB</th>\n",
       "      <th>GGBL</th>\n",
       "      <th>SIC</th>\n",
       "      <th>SOGEGH</th>\n",
       "      <th>TOTAL</th>\n",
       "      <th>TLW</th>\n",
       "    </tr>\n",
       "    <tr>\n",
       "      <th>Daily Date</th>\n",
       "      <th></th>\n",
       "      <th></th>\n",
       "      <th></th>\n",
       "      <th></th>\n",
       "      <th></th>\n",
       "      <th></th>\n",
       "      <th></th>\n",
       "      <th></th>\n",
       "      <th></th>\n",
       "      <th></th>\n",
       "    </tr>\n",
       "  </thead>\n",
       "  <tbody>\n",
       "    <tr>\n",
       "      <th>28-3-2024</th>\n",
       "      <td>21.53</td>\n",
       "      <td>0.42</td>\n",
       "      <td>0.1</td>\n",
       "      <td>0.02</td>\n",
       "      <td>3.43</td>\n",
       "      <td>4.44</td>\n",
       "      <td>0.24</td>\n",
       "      <td>1.57</td>\n",
       "      <td>9.5</td>\n",
       "      <td>11.92</td>\n",
       "    </tr>\n",
       "    <tr>\n",
       "      <th>27-3-2024</th>\n",
       "      <td>21.53</td>\n",
       "      <td>0.42</td>\n",
       "      <td>0.1</td>\n",
       "      <td>0.02</td>\n",
       "      <td>3.43</td>\n",
       "      <td>4.44</td>\n",
       "      <td>0.24</td>\n",
       "      <td>1.57</td>\n",
       "      <td>9.5</td>\n",
       "      <td>11.92</td>\n",
       "    </tr>\n",
       "    <tr>\n",
       "      <th>26-3-2024</th>\n",
       "      <td>21.53</td>\n",
       "      <td>0.46</td>\n",
       "      <td>0.1</td>\n",
       "      <td>0.02</td>\n",
       "      <td>3.43</td>\n",
       "      <td>4.44</td>\n",
       "      <td>0.24</td>\n",
       "      <td>1.57</td>\n",
       "      <td>9.5</td>\n",
       "      <td>11.92</td>\n",
       "    </tr>\n",
       "    <tr>\n",
       "      <th>25-3-2024</th>\n",
       "      <td>21.53</td>\n",
       "      <td>0.46</td>\n",
       "      <td>0.1</td>\n",
       "      <td>0.02</td>\n",
       "      <td>3.43</td>\n",
       "      <td>4.44</td>\n",
       "      <td>0.24</td>\n",
       "      <td>1.57</td>\n",
       "      <td>9.5</td>\n",
       "      <td>11.92</td>\n",
       "    </tr>\n",
       "    <tr>\n",
       "      <th>22-3-2024</th>\n",
       "      <td>21.53</td>\n",
       "      <td>0.47</td>\n",
       "      <td>0.1</td>\n",
       "      <td>0.02</td>\n",
       "      <td>3.43</td>\n",
       "      <td>4.44</td>\n",
       "      <td>0.24</td>\n",
       "      <td>1.57</td>\n",
       "      <td>9.5</td>\n",
       "      <td>11.92</td>\n",
       "    </tr>\n",
       "  </tbody>\n",
       "</table>\n",
       "</div>"
      ],
      "text/plain": [
       "             BOPP   CAL  CMLT   CPC   GCB  GGBL   SIC  SOGEGH  TOTAL    TLW\n",
       "Daily Date                                                                 \n",
       "28-3-2024   21.53  0.42   0.1  0.02  3.43  4.44  0.24    1.57    9.5  11.92\n",
       "27-3-2024   21.53  0.42   0.1  0.02  3.43  4.44  0.24    1.57    9.5  11.92\n",
       "26-3-2024   21.53  0.46   0.1  0.02  3.43  4.44  0.24    1.57    9.5  11.92\n",
       "25-3-2024   21.53  0.46   0.1  0.02  3.43  4.44  0.24    1.57    9.5  11.92\n",
       "22-3-2024   21.53  0.47   0.1  0.02  3.43  4.44  0.24    1.57    9.5  11.92"
      ]
     },
     "execution_count": 29,
     "metadata": {},
     "output_type": "execute_result"
    }
   ],
   "source": [
    "portfolio1.head()"
   ]
  },
  {
   "cell_type": "code",
   "execution_count": 30,
   "id": "898ea726",
   "metadata": {},
   "outputs": [
    {
     "data": {
      "text/html": [
       "<div>\n",
       "<style scoped>\n",
       "    .dataframe tbody tr th:only-of-type {\n",
       "        vertical-align: middle;\n",
       "    }\n",
       "\n",
       "    .dataframe tbody tr th {\n",
       "        vertical-align: top;\n",
       "    }\n",
       "\n",
       "    .dataframe thead th {\n",
       "        text-align: right;\n",
       "    }\n",
       "</style>\n",
       "<table border=\"1\" class=\"dataframe\">\n",
       "  <thead>\n",
       "    <tr style=\"text-align: right;\">\n",
       "      <th></th>\n",
       "      <th>BOPP</th>\n",
       "      <th>CAL</th>\n",
       "      <th>CMLT</th>\n",
       "      <th>CPC</th>\n",
       "      <th>GCB</th>\n",
       "      <th>GGBL</th>\n",
       "      <th>SIC</th>\n",
       "      <th>SOGEGH</th>\n",
       "      <th>TOTAL</th>\n",
       "      <th>TLW</th>\n",
       "    </tr>\n",
       "  </thead>\n",
       "  <tbody>\n",
       "    <tr>\n",
       "      <th>count</th>\n",
       "      <td>2526.00</td>\n",
       "      <td>2526.00</td>\n",
       "      <td>2526.00</td>\n",
       "      <td>2526.00</td>\n",
       "      <td>1894.00</td>\n",
       "      <td>2526.00</td>\n",
       "      <td>2526.00</td>\n",
       "      <td>2526.00</td>\n",
       "      <td>2526.00</td>\n",
       "      <td>2526.00</td>\n",
       "    </tr>\n",
       "    <tr>\n",
       "      <th>mean</th>\n",
       "      <td>5.51</td>\n",
       "      <td>0.86</td>\n",
       "      <td>0.11</td>\n",
       "      <td>0.02</td>\n",
       "      <td>4.41</td>\n",
       "      <td>2.28</td>\n",
       "      <td>0.20</td>\n",
       "      <td>0.94</td>\n",
       "      <td>4.54</td>\n",
       "      <td>18.80</td>\n",
       "    </tr>\n",
       "    <tr>\n",
       "      <th>std</th>\n",
       "      <td>4.49</td>\n",
       "      <td>0.22</td>\n",
       "      <td>0.02</td>\n",
       "      <td>0.00</td>\n",
       "      <td>0.73</td>\n",
       "      <td>1.09</td>\n",
       "      <td>0.11</td>\n",
       "      <td>0.32</td>\n",
       "      <td>1.79</td>\n",
       "      <td>8.91</td>\n",
       "    </tr>\n",
       "    <tr>\n",
       "      <th>min</th>\n",
       "      <td>2.00</td>\n",
       "      <td>0.42</td>\n",
       "      <td>0.09</td>\n",
       "      <td>0.01</td>\n",
       "      <td>2.95</td>\n",
       "      <td>0.90</td>\n",
       "      <td>0.07</td>\n",
       "      <td>0.57</td>\n",
       "      <td>1.97</td>\n",
       "      <td>11.92</td>\n",
       "    </tr>\n",
       "    <tr>\n",
       "      <th>25%</th>\n",
       "      <td>2.85</td>\n",
       "      <td>0.74</td>\n",
       "      <td>0.10</td>\n",
       "      <td>0.02</td>\n",
       "      <td>3.76</td>\n",
       "      <td>1.60</td>\n",
       "      <td>0.10</td>\n",
       "      <td>0.73</td>\n",
       "      <td>3.00</td>\n",
       "      <td>11.92</td>\n",
       "    </tr>\n",
       "    <tr>\n",
       "      <th>50%</th>\n",
       "      <td>4.10</td>\n",
       "      <td>0.84</td>\n",
       "      <td>0.11</td>\n",
       "      <td>0.02</td>\n",
       "      <td>4.50</td>\n",
       "      <td>2.05</td>\n",
       "      <td>0.15</td>\n",
       "      <td>0.84</td>\n",
       "      <td>4.25</td>\n",
       "      <td>11.94</td>\n",
       "    </tr>\n",
       "    <tr>\n",
       "      <th>75%</th>\n",
       "      <td>6.34</td>\n",
       "      <td>0.99</td>\n",
       "      <td>0.12</td>\n",
       "      <td>0.02</td>\n",
       "      <td>5.06</td>\n",
       "      <td>2.55</td>\n",
       "      <td>0.26</td>\n",
       "      <td>1.03</td>\n",
       "      <td>5.46</td>\n",
       "      <td>27.88</td>\n",
       "    </tr>\n",
       "    <tr>\n",
       "      <th>max</th>\n",
       "      <td>22.00</td>\n",
       "      <td>1.97</td>\n",
       "      <td>0.16</td>\n",
       "      <td>0.03</td>\n",
       "      <td>5.85</td>\n",
       "      <td>6.20</td>\n",
       "      <td>0.52</td>\n",
       "      <td>2.40</td>\n",
       "      <td>9.50</td>\n",
       "      <td>36.00</td>\n",
       "    </tr>\n",
       "  </tbody>\n",
       "</table>\n",
       "</div>"
      ],
      "text/plain": [
       "          BOPP      CAL     CMLT      CPC      GCB     GGBL      SIC   SOGEGH  \\\n",
       "count  2526.00  2526.00  2526.00  2526.00  1894.00  2526.00  2526.00  2526.00   \n",
       "mean      5.51     0.86     0.11     0.02     4.41     2.28     0.20     0.94   \n",
       "std       4.49     0.22     0.02     0.00     0.73     1.09     0.11     0.32   \n",
       "min       2.00     0.42     0.09     0.01     2.95     0.90     0.07     0.57   \n",
       "25%       2.85     0.74     0.10     0.02     3.76     1.60     0.10     0.73   \n",
       "50%       4.10     0.84     0.11     0.02     4.50     2.05     0.15     0.84   \n",
       "75%       6.34     0.99     0.12     0.02     5.06     2.55     0.26     1.03   \n",
       "max      22.00     1.97     0.16     0.03     5.85     6.20     0.52     2.40   \n",
       "\n",
       "         TOTAL      TLW  \n",
       "count  2526.00  2526.00  \n",
       "mean      4.54    18.80  \n",
       "std       1.79     8.91  \n",
       "min       1.97    11.92  \n",
       "25%       3.00    11.92  \n",
       "50%       4.25    11.94  \n",
       "75%       5.46    27.88  \n",
       "max       9.50    36.00  "
      ]
     },
     "execution_count": 30,
     "metadata": {},
     "output_type": "execute_result"
    }
   ],
   "source": [
    "round(portfolio1.describe(),2)"
   ]
  },
  {
   "cell_type": "code",
   "execution_count": 48,
   "id": "1502d57b",
   "metadata": {
    "scrolled": false
   },
   "outputs": [
    {
     "data": {
      "text/html": [
       "<div>\n",
       "<style scoped>\n",
       "    .dataframe tbody tr th:only-of-type {\n",
       "        vertical-align: middle;\n",
       "    }\n",
       "\n",
       "    .dataframe tbody tr th {\n",
       "        vertical-align: top;\n",
       "    }\n",
       "\n",
       "    .dataframe thead th {\n",
       "        text-align: right;\n",
       "    }\n",
       "</style>\n",
       "<table border=\"1\" class=\"dataframe\">\n",
       "  <thead>\n",
       "    <tr style=\"text-align: right;\">\n",
       "      <th></th>\n",
       "      <th>BOPP</th>\n",
       "      <th>CAL</th>\n",
       "      <th>CMLT</th>\n",
       "      <th>CPC</th>\n",
       "      <th>GCB</th>\n",
       "      <th>GGBL</th>\n",
       "      <th>SIC</th>\n",
       "      <th>SOGEGH</th>\n",
       "      <th>TOTAL</th>\n",
       "      <th>TLW</th>\n",
       "    </tr>\n",
       "  </thead>\n",
       "  <tbody>\n",
       "    <tr>\n",
       "      <th>BOPP</th>\n",
       "      <td>1.000</td>\n",
       "      <td>-0.335</td>\n",
       "      <td>-0.244</td>\n",
       "      <td>-0.051</td>\n",
       "      <td>-0.546</td>\n",
       "      <td>0.281</td>\n",
       "      <td>0.259</td>\n",
       "      <td>0.521</td>\n",
       "      <td>0.729</td>\n",
       "      <td>-0.322</td>\n",
       "    </tr>\n",
       "    <tr>\n",
       "      <th>CAL</th>\n",
       "      <td>-0.335</td>\n",
       "      <td>1.000</td>\n",
       "      <td>0.504</td>\n",
       "      <td>-0.219</td>\n",
       "      <td>0.170</td>\n",
       "      <td>0.169</td>\n",
       "      <td>0.255</td>\n",
       "      <td>0.357</td>\n",
       "      <td>-0.094</td>\n",
       "      <td>0.279</td>\n",
       "    </tr>\n",
       "    <tr>\n",
       "      <th>CMLT</th>\n",
       "      <td>-0.244</td>\n",
       "      <td>0.504</td>\n",
       "      <td>1.000</td>\n",
       "      <td>-0.148</td>\n",
       "      <td>0.009</td>\n",
       "      <td>0.525</td>\n",
       "      <td>0.546</td>\n",
       "      <td>0.275</td>\n",
       "      <td>0.101</td>\n",
       "      <td>0.604</td>\n",
       "    </tr>\n",
       "    <tr>\n",
       "      <th>CPC</th>\n",
       "      <td>-0.051</td>\n",
       "      <td>-0.219</td>\n",
       "      <td>-0.148</td>\n",
       "      <td>1.000</td>\n",
       "      <td>0.006</td>\n",
       "      <td>-0.259</td>\n",
       "      <td>-0.246</td>\n",
       "      <td>-0.080</td>\n",
       "      <td>-0.263</td>\n",
       "      <td>-0.468</td>\n",
       "    </tr>\n",
       "    <tr>\n",
       "      <th>GCB</th>\n",
       "      <td>-0.546</td>\n",
       "      <td>0.170</td>\n",
       "      <td>0.009</td>\n",
       "      <td>0.006</td>\n",
       "      <td>1.000</td>\n",
       "      <td>-0.200</td>\n",
       "      <td>-0.381</td>\n",
       "      <td>-0.216</td>\n",
       "      <td>-0.455</td>\n",
       "      <td>0.113</td>\n",
       "    </tr>\n",
       "    <tr>\n",
       "      <th>GGBL</th>\n",
       "      <td>0.281</td>\n",
       "      <td>0.169</td>\n",
       "      <td>0.525</td>\n",
       "      <td>-0.259</td>\n",
       "      <td>-0.200</td>\n",
       "      <td>1.000</td>\n",
       "      <td>0.694</td>\n",
       "      <td>0.337</td>\n",
       "      <td>0.642</td>\n",
       "      <td>0.470</td>\n",
       "    </tr>\n",
       "    <tr>\n",
       "      <th>SIC</th>\n",
       "      <td>0.259</td>\n",
       "      <td>0.255</td>\n",
       "      <td>0.546</td>\n",
       "      <td>-0.246</td>\n",
       "      <td>-0.381</td>\n",
       "      <td>0.694</td>\n",
       "      <td>1.000</td>\n",
       "      <td>0.447</td>\n",
       "      <td>0.501</td>\n",
       "      <td>0.357</td>\n",
       "    </tr>\n",
       "    <tr>\n",
       "      <th>SOGEGH</th>\n",
       "      <td>0.521</td>\n",
       "      <td>0.357</td>\n",
       "      <td>0.275</td>\n",
       "      <td>-0.080</td>\n",
       "      <td>-0.216</td>\n",
       "      <td>0.337</td>\n",
       "      <td>0.447</td>\n",
       "      <td>1.000</td>\n",
       "      <td>0.539</td>\n",
       "      <td>-0.122</td>\n",
       "    </tr>\n",
       "    <tr>\n",
       "      <th>TOTAL</th>\n",
       "      <td>0.729</td>\n",
       "      <td>-0.094</td>\n",
       "      <td>0.101</td>\n",
       "      <td>-0.263</td>\n",
       "      <td>-0.455</td>\n",
       "      <td>0.642</td>\n",
       "      <td>0.501</td>\n",
       "      <td>0.539</td>\n",
       "      <td>1.000</td>\n",
       "      <td>0.171</td>\n",
       "    </tr>\n",
       "    <tr>\n",
       "      <th>TLW</th>\n",
       "      <td>-0.322</td>\n",
       "      <td>0.279</td>\n",
       "      <td>0.604</td>\n",
       "      <td>-0.468</td>\n",
       "      <td>0.113</td>\n",
       "      <td>0.470</td>\n",
       "      <td>0.357</td>\n",
       "      <td>-0.122</td>\n",
       "      <td>0.171</td>\n",
       "      <td>1.000</td>\n",
       "    </tr>\n",
       "  </tbody>\n",
       "</table>\n",
       "</div>"
      ],
      "text/plain": [
       "         BOPP    CAL   CMLT    CPC    GCB   GGBL    SIC  SOGEGH  TOTAL    TLW\n",
       "BOPP    1.000 -0.335 -0.244 -0.051 -0.546  0.281  0.259   0.521  0.729 -0.322\n",
       "CAL    -0.335  1.000  0.504 -0.219  0.170  0.169  0.255   0.357 -0.094  0.279\n",
       "CMLT   -0.244  0.504  1.000 -0.148  0.009  0.525  0.546   0.275  0.101  0.604\n",
       "CPC    -0.051 -0.219 -0.148  1.000  0.006 -0.259 -0.246  -0.080 -0.263 -0.468\n",
       "GCB    -0.546  0.170  0.009  0.006  1.000 -0.200 -0.381  -0.216 -0.455  0.113\n",
       "GGBL    0.281  0.169  0.525 -0.259 -0.200  1.000  0.694   0.337  0.642  0.470\n",
       "SIC     0.259  0.255  0.546 -0.246 -0.381  0.694  1.000   0.447  0.501  0.357\n",
       "SOGEGH  0.521  0.357  0.275 -0.080 -0.216  0.337  0.447   1.000  0.539 -0.122\n",
       "TOTAL   0.729 -0.094  0.101 -0.263 -0.455  0.642  0.501   0.539  1.000  0.171\n",
       "TLW    -0.322  0.279  0.604 -0.468  0.113  0.470  0.357  -0.122  0.171  1.000"
      ]
     },
     "execution_count": 48,
     "metadata": {},
     "output_type": "execute_result"
    }
   ],
   "source": [
    "round(portfolio1.corr(),3)"
   ]
  },
  {
   "cell_type": "code",
   "execution_count": 32,
   "id": "9a213409",
   "metadata": {},
   "outputs": [
    {
     "data": {
      "text/plain": [
       "BOPP        0\n",
       "CAL         0\n",
       "CMLT        0\n",
       "CPC         0\n",
       "GCB       632\n",
       "GGBL        0\n",
       "SIC         0\n",
       "SOGEGH      0\n",
       "TOTAL       0\n",
       "TLW         0\n",
       "dtype: int64"
      ]
     },
     "execution_count": 32,
     "metadata": {},
     "output_type": "execute_result"
    }
   ],
   "source": [
    "portfolio1.isna().sum()"
   ]
  },
  {
   "cell_type": "code",
   "execution_count": 33,
   "id": "c261e2e5",
   "metadata": {},
   "outputs": [
    {
     "data": {
      "text/plain": [
       "BOPP      0\n",
       "CAL       0\n",
       "CMLT      0\n",
       "CPC       0\n",
       "GCB       0\n",
       "GGBL      0\n",
       "SIC       0\n",
       "SOGEGH    0\n",
       "TOTAL     0\n",
       "TLW       0\n",
       "dtype: int64"
      ]
     },
     "execution_count": 33,
     "metadata": {},
     "output_type": "execute_result"
    }
   ],
   "source": [
    "portfolio1[\"GCB\"] = portfolio1[\"GCB\"].replace(np.NaN, portfolio1[\"GCB\"].mean())\n",
    "portfolio1.isna().sum()"
   ]
  },
  {
   "cell_type": "code",
   "execution_count": 34,
   "id": "4ae7fca8",
   "metadata": {},
   "outputs": [
    {
     "data": {
      "text/html": [
       "<div>\n",
       "<style scoped>\n",
       "    .dataframe tbody tr th:only-of-type {\n",
       "        vertical-align: middle;\n",
       "    }\n",
       "\n",
       "    .dataframe tbody tr th {\n",
       "        vertical-align: top;\n",
       "    }\n",
       "\n",
       "    .dataframe thead th {\n",
       "        text-align: right;\n",
       "    }\n",
       "</style>\n",
       "<table border=\"1\" class=\"dataframe\">\n",
       "  <thead>\n",
       "    <tr style=\"text-align: right;\">\n",
       "      <th></th>\n",
       "      <th>BOPP</th>\n",
       "      <th>CAL</th>\n",
       "      <th>CMLT</th>\n",
       "      <th>CPC</th>\n",
       "      <th>GCB</th>\n",
       "      <th>GGBL</th>\n",
       "      <th>SIC</th>\n",
       "      <th>SOGEGH</th>\n",
       "      <th>TOTAL</th>\n",
       "      <th>TLW</th>\n",
       "    </tr>\n",
       "    <tr>\n",
       "      <th>Daily Date</th>\n",
       "      <th></th>\n",
       "      <th></th>\n",
       "      <th></th>\n",
       "      <th></th>\n",
       "      <th></th>\n",
       "      <th></th>\n",
       "      <th></th>\n",
       "      <th></th>\n",
       "      <th></th>\n",
       "      <th></th>\n",
       "    </tr>\n",
       "  </thead>\n",
       "  <tbody>\n",
       "    <tr>\n",
       "      <th>27-3-2024</th>\n",
       "      <td>0.0</td>\n",
       "      <td>0.000000</td>\n",
       "      <td>0.0</td>\n",
       "      <td>0.0</td>\n",
       "      <td>0.0</td>\n",
       "      <td>0.0</td>\n",
       "      <td>0.0</td>\n",
       "      <td>0.0</td>\n",
       "      <td>0.000000</td>\n",
       "      <td>0.0</td>\n",
       "    </tr>\n",
       "    <tr>\n",
       "      <th>26-3-2024</th>\n",
       "      <td>0.0</td>\n",
       "      <td>0.095238</td>\n",
       "      <td>0.0</td>\n",
       "      <td>0.0</td>\n",
       "      <td>0.0</td>\n",
       "      <td>0.0</td>\n",
       "      <td>0.0</td>\n",
       "      <td>0.0</td>\n",
       "      <td>0.000000</td>\n",
       "      <td>0.0</td>\n",
       "    </tr>\n",
       "    <tr>\n",
       "      <th>25-3-2024</th>\n",
       "      <td>0.0</td>\n",
       "      <td>0.000000</td>\n",
       "      <td>0.0</td>\n",
       "      <td>0.0</td>\n",
       "      <td>0.0</td>\n",
       "      <td>0.0</td>\n",
       "      <td>0.0</td>\n",
       "      <td>0.0</td>\n",
       "      <td>0.000000</td>\n",
       "      <td>0.0</td>\n",
       "    </tr>\n",
       "    <tr>\n",
       "      <th>22-3-2024</th>\n",
       "      <td>0.0</td>\n",
       "      <td>0.021739</td>\n",
       "      <td>0.0</td>\n",
       "      <td>0.0</td>\n",
       "      <td>0.0</td>\n",
       "      <td>0.0</td>\n",
       "      <td>0.0</td>\n",
       "      <td>0.0</td>\n",
       "      <td>0.000000</td>\n",
       "      <td>0.0</td>\n",
       "    </tr>\n",
       "    <tr>\n",
       "      <th>21-3-2024</th>\n",
       "      <td>0.0</td>\n",
       "      <td>0.000000</td>\n",
       "      <td>0.0</td>\n",
       "      <td>0.0</td>\n",
       "      <td>0.0</td>\n",
       "      <td>0.0</td>\n",
       "      <td>0.0</td>\n",
       "      <td>0.0</td>\n",
       "      <td>0.000000</td>\n",
       "      <td>0.0</td>\n",
       "    </tr>\n",
       "    <tr>\n",
       "      <th>...</th>\n",
       "      <td>...</td>\n",
       "      <td>...</td>\n",
       "      <td>...</td>\n",
       "      <td>...</td>\n",
       "      <td>...</td>\n",
       "      <td>...</td>\n",
       "      <td>...</td>\n",
       "      <td>...</td>\n",
       "      <td>...</td>\n",
       "      <td>...</td>\n",
       "    </tr>\n",
       "    <tr>\n",
       "      <th>8/1/2014</th>\n",
       "      <td>0.0</td>\n",
       "      <td>0.000000</td>\n",
       "      <td>0.0</td>\n",
       "      <td>0.0</td>\n",
       "      <td>0.0</td>\n",
       "      <td>0.0</td>\n",
       "      <td>0.0</td>\n",
       "      <td>0.0</td>\n",
       "      <td>0.000000</td>\n",
       "      <td>0.0</td>\n",
       "    </tr>\n",
       "    <tr>\n",
       "      <th>7/1/2014</th>\n",
       "      <td>0.0</td>\n",
       "      <td>0.000000</td>\n",
       "      <td>0.0</td>\n",
       "      <td>0.0</td>\n",
       "      <td>0.0</td>\n",
       "      <td>0.0</td>\n",
       "      <td>0.0</td>\n",
       "      <td>0.0</td>\n",
       "      <td>-0.001988</td>\n",
       "      <td>0.0</td>\n",
       "    </tr>\n",
       "    <tr>\n",
       "      <th>6/1/2014</th>\n",
       "      <td>0.0</td>\n",
       "      <td>0.000000</td>\n",
       "      <td>0.0</td>\n",
       "      <td>0.0</td>\n",
       "      <td>0.0</td>\n",
       "      <td>0.0</td>\n",
       "      <td>0.0</td>\n",
       "      <td>0.0</td>\n",
       "      <td>0.000000</td>\n",
       "      <td>0.0</td>\n",
       "    </tr>\n",
       "    <tr>\n",
       "      <th>3/1/2014</th>\n",
       "      <td>0.0</td>\n",
       "      <td>0.000000</td>\n",
       "      <td>0.0</td>\n",
       "      <td>0.0</td>\n",
       "      <td>0.0</td>\n",
       "      <td>0.0</td>\n",
       "      <td>0.0</td>\n",
       "      <td>0.0</td>\n",
       "      <td>0.000000</td>\n",
       "      <td>0.0</td>\n",
       "    </tr>\n",
       "    <tr>\n",
       "      <th>2/1/2014</th>\n",
       "      <td>0.0</td>\n",
       "      <td>0.000000</td>\n",
       "      <td>0.0</td>\n",
       "      <td>0.0</td>\n",
       "      <td>0.0</td>\n",
       "      <td>0.0</td>\n",
       "      <td>0.0</td>\n",
       "      <td>0.0</td>\n",
       "      <td>0.000000</td>\n",
       "      <td>0.0</td>\n",
       "    </tr>\n",
       "  </tbody>\n",
       "</table>\n",
       "<p>2525 rows × 10 columns</p>\n",
       "</div>"
      ],
      "text/plain": [
       "            BOPP       CAL  CMLT  CPC  GCB  GGBL  SIC  SOGEGH     TOTAL  TLW\n",
       "Daily Date                                                                  \n",
       "27-3-2024    0.0  0.000000   0.0  0.0  0.0   0.0  0.0     0.0  0.000000  0.0\n",
       "26-3-2024    0.0  0.095238   0.0  0.0  0.0   0.0  0.0     0.0  0.000000  0.0\n",
       "25-3-2024    0.0  0.000000   0.0  0.0  0.0   0.0  0.0     0.0  0.000000  0.0\n",
       "22-3-2024    0.0  0.021739   0.0  0.0  0.0   0.0  0.0     0.0  0.000000  0.0\n",
       "21-3-2024    0.0  0.000000   0.0  0.0  0.0   0.0  0.0     0.0  0.000000  0.0\n",
       "...          ...       ...   ...  ...  ...   ...  ...     ...       ...  ...\n",
       "8/1/2014     0.0  0.000000   0.0  0.0  0.0   0.0  0.0     0.0  0.000000  0.0\n",
       "7/1/2014     0.0  0.000000   0.0  0.0  0.0   0.0  0.0     0.0 -0.001988  0.0\n",
       "6/1/2014     0.0  0.000000   0.0  0.0  0.0   0.0  0.0     0.0  0.000000  0.0\n",
       "3/1/2014     0.0  0.000000   0.0  0.0  0.0   0.0  0.0     0.0  0.000000  0.0\n",
       "2/1/2014     0.0  0.000000   0.0  0.0  0.0   0.0  0.0     0.0  0.000000  0.0\n",
       "\n",
       "[2525 rows x 10 columns]"
      ]
     },
     "execution_count": 34,
     "metadata": {},
     "output_type": "execute_result"
    }
   ],
   "source": [
    "daily_simple_returns = portfolio1.pct_change(1).dropna()\n",
    "daily_simple_returns"
   ]
  },
  {
   "cell_type": "code",
   "execution_count": 35,
   "id": "af9bf845",
   "metadata": {},
   "outputs": [
    {
     "data": {
      "text/plain": [
       "BOPP     -0.036102\n",
       "CAL       0.151844\n",
       "CMLT      0.058725\n",
       "CPC       0.632079\n",
       "GCB       0.053883\n",
       "GGBL      0.086705\n",
       "SIC       0.148396\n",
       "SOGEGH   -0.018264\n",
       "TOTAL     0.045103\n",
       "TLW       0.117206\n",
       "dtype: float64"
      ]
     },
     "execution_count": 35,
     "metadata": {},
     "output_type": "execute_result"
    }
   ],
   "source": [
    "annual_returns = daily_simple_returns.mean()*252\n",
    "annual_returns"
   ]
  },
  {
   "cell_type": "code",
   "execution_count": 36,
   "id": "e7180ac6",
   "metadata": {},
   "outputs": [
    {
     "data": {
      "text/plain": [
       "BOPP      0.668262\n",
       "CAL       0.373569\n",
       "CMLT      0.156464\n",
       "CPC       1.252256\n",
       "GCB       0.230288\n",
       "GGBL      0.338665\n",
       "SIC       0.449193\n",
       "SOGEGH    0.340283\n",
       "TOTAL     0.516880\n",
       "TLW       0.145131\n",
       "dtype: float64"
      ]
     },
     "execution_count": 36,
     "metadata": {},
     "output_type": "execute_result"
    }
   ],
   "source": [
    "annual_risks = daily_simple_returns.std() * math.sqrt(252)\n",
    "annual_risks"
   ]
  },
  {
   "cell_type": "code",
   "execution_count": 37,
   "id": "2cfb88ca",
   "metadata": {},
   "outputs": [
    {
     "data": {
      "text/plain": [
       "CPC       0.632079\n",
       "CAL       0.151844\n",
       "SIC       0.148396\n",
       "TLW       0.117206\n",
       "GGBL      0.086705\n",
       "CMLT      0.058725\n",
       "GCB       0.053883\n",
       "TOTAL     0.045103\n",
       "SOGEGH   -0.018264\n",
       "BOPP     -0.036102\n",
       "dtype: float64"
      ]
     },
     "execution_count": 37,
     "metadata": {},
     "output_type": "execute_result"
    }
   ],
   "source": [
    "sorted_annualized_returns = annual_returns.sort_values(ascending = False)\n",
    "sorted_annualized_returns"
   ]
  },
  {
   "cell_type": "code",
   "execution_count": 38,
   "id": "85672ead",
   "metadata": {},
   "outputs": [
    {
     "data": {
      "image/png": "[encoded data removed]",
      "text/plain": [
       "<Figure size 640x480 with 1 Axes>"
      ]
     },
     "metadata": {},
     "output_type": "display_data"
    }
   ],
   "source": [
    "plt.bar(sorted_annualized_returns.index, sorted_annualized_returns)\n",
    "plt.ylabel(\"Annualized Returns\")\n",
    "plt.xlabel(\"Assets\")\n",
    "plt.xticks(rotation = 45)\n",
    "plt.title(\"Annualized Returns of Assets\")\n",
    "plt.show()"
   ]
  },
  {
   "cell_type": "code",
   "execution_count": 39,
   "id": "58ea1e6c",
   "metadata": {},
   "outputs": [
    {
     "data": {
      "text/html": [
       "<div>\n",
       "<style scoped>\n",
       "    .dataframe tbody tr th:only-of-type {\n",
       "        vertical-align: middle;\n",
       "    }\n",
       "\n",
       "    .dataframe tbody tr th {\n",
       "        vertical-align: top;\n",
       "    }\n",
       "\n",
       "    .dataframe thead th {\n",
       "        text-align: right;\n",
       "    }\n",
       "</style>\n",
       "<table border=\"1\" class=\"dataframe\">\n",
       "  <thead>\n",
       "    <tr style=\"text-align: right;\">\n",
       "      <th></th>\n",
       "      <th>Expected Annual Returns</th>\n",
       "      <th>Expected Annual Risks</th>\n",
       "      <th>Company Tickers</th>\n",
       "      <th>Sharpe_Ratio</th>\n",
       "    </tr>\n",
       "  </thead>\n",
       "  <tbody>\n",
       "    <tr>\n",
       "      <th>TLW</th>\n",
       "      <td>0.117206</td>\n",
       "      <td>0.145131</td>\n",
       "      <td>TLW</td>\n",
       "      <td>0.807592</td>\n",
       "    </tr>\n",
       "    <tr>\n",
       "      <th>CPC</th>\n",
       "      <td>0.632079</td>\n",
       "      <td>1.252256</td>\n",
       "      <td>CPC</td>\n",
       "      <td>0.504752</td>\n",
       "    </tr>\n",
       "    <tr>\n",
       "      <th>CAL</th>\n",
       "      <td>0.151844</td>\n",
       "      <td>0.373569</td>\n",
       "      <td>CAL</td>\n",
       "      <td>0.406467</td>\n",
       "    </tr>\n",
       "    <tr>\n",
       "      <th>CMLT</th>\n",
       "      <td>0.058725</td>\n",
       "      <td>0.156464</td>\n",
       "      <td>CMLT</td>\n",
       "      <td>0.375326</td>\n",
       "    </tr>\n",
       "    <tr>\n",
       "      <th>SIC</th>\n",
       "      <td>0.148396</td>\n",
       "      <td>0.449193</td>\n",
       "      <td>SIC</td>\n",
       "      <td>0.330361</td>\n",
       "    </tr>\n",
       "    <tr>\n",
       "      <th>GGBL</th>\n",
       "      <td>0.086705</td>\n",
       "      <td>0.338665</td>\n",
       "      <td>GGBL</td>\n",
       "      <td>0.256021</td>\n",
       "    </tr>\n",
       "    <tr>\n",
       "      <th>GCB</th>\n",
       "      <td>0.053883</td>\n",
       "      <td>0.230288</td>\n",
       "      <td>GCB</td>\n",
       "      <td>0.233981</td>\n",
       "    </tr>\n",
       "    <tr>\n",
       "      <th>TOTAL</th>\n",
       "      <td>0.045103</td>\n",
       "      <td>0.516880</td>\n",
       "      <td>TOTAL</td>\n",
       "      <td>0.087261</td>\n",
       "    </tr>\n",
       "    <tr>\n",
       "      <th>SOGEGH</th>\n",
       "      <td>-0.018264</td>\n",
       "      <td>0.340283</td>\n",
       "      <td>SOGEGH</td>\n",
       "      <td>-0.053674</td>\n",
       "    </tr>\n",
       "    <tr>\n",
       "      <th>BOPP</th>\n",
       "      <td>-0.036102</td>\n",
       "      <td>0.668262</td>\n",
       "      <td>BOPP</td>\n",
       "      <td>-0.054023</td>\n",
       "    </tr>\n",
       "  </tbody>\n",
       "</table>\n",
       "</div>"
      ],
      "text/plain": [
       "        Expected Annual Returns  Expected Annual Risks Company Tickers  \\\n",
       "TLW                    0.117206               0.145131             TLW   \n",
       "CPC                    0.632079               1.252256             CPC   \n",
       "CAL                    0.151844               0.373569             CAL   \n",
       "CMLT                   0.058725               0.156464            CMLT   \n",
       "SIC                    0.148396               0.449193             SIC   \n",
       "GGBL                   0.086705               0.338665            GGBL   \n",
       "GCB                    0.053883               0.230288             GCB   \n",
       "TOTAL                  0.045103               0.516880           TOTAL   \n",
       "SOGEGH                -0.018264               0.340283          SOGEGH   \n",
       "BOPP                  -0.036102               0.668262            BOPP   \n",
       "\n",
       "        Sharpe_Ratio  \n",
       "TLW         0.807592  \n",
       "CPC         0.504752  \n",
       "CAL         0.406467  \n",
       "CMLT        0.375326  \n",
       "SIC         0.330361  \n",
       "GGBL        0.256021  \n",
       "GCB         0.233981  \n",
       "TOTAL       0.087261  \n",
       "SOGEGH     -0.053674  \n",
       "BOPP       -0.054023  "
      ]
     },
     "execution_count": 39,
     "metadata": {},
     "output_type": "execute_result"
    }
   ],
   "source": [
    "df2 = pd.DataFrame()\n",
    "df2['Expected Annual Returns'] = annual_returns\n",
    "df2['Expected Annual Risks'] = annual_risks\n",
    "df2['Company Tickers'] = df2.index\n",
    "df2['Sharpe_Ratio'] = df2['Expected Annual Returns'] / df2['Expected Annual Risks']\n",
    "#Show the data sorted in descednding order for the expected annual returns\n",
    "df2.sort_values(by='Sharpe_Ratio', axis = 0, ascending = False, inplace = False)\n",
    "\n",
    "#The Ratio shows how much annual returns there is compared to annual risks"
   ]
  },
  {
   "cell_type": "code",
   "execution_count": 40,
   "id": "9926ec8f",
   "metadata": {},
   "outputs": [
    {
     "data": {
      "image/png": "[encoded data removed]",
      "text/plain": [
       "<Figure size 600x500 with 1 Axes>"
      ]
     },
     "metadata": {},
     "output_type": "display_data"
    }
   ],
   "source": [
    "fig, ax = plt.subplots(figsize = (6,5))\n",
    "plt.title(\"Expected Annual Returns vs Expected Annual Risk\")\n",
    "ax.scatter(df2['Expected Annual Risks'], df2['Expected Annual Returns'], c = 'magenta')\n",
    "ax.set_xlabel('Expected Annual Risks')\n",
    "ax.set_ylabel('Expected Annual Returns')\n",
    "\n",
    "#Annotate the points on the plot\n",
    "for idx, row in df2.iterrows():\n",
    "    ax.annotate(row['Company Tickers'], (row['Expected Annual Risks'], row['Expected Annual Returns']), c = 'green')\n",
    "    \n",
    "#Show the plot\n",
    "plt.show()"
   ]
  },
  {
   "cell_type": "code",
   "execution_count": 41,
   "id": "6dde676f",
   "metadata": {},
   "outputs": [
    {
     "data": {
      "text/plain": [
       "10"
      ]
     },
     "execution_count": 41,
     "metadata": {},
     "output_type": "execute_result"
    }
   ],
   "source": [
    "#Restructing for calculation of portfolio returns and volatility\n",
    "assets = df2.index\n",
    "num_assets = len(assets)\n",
    "num_assets"
   ]
  },
  {
   "cell_type": "code",
   "execution_count": 42,
   "id": "de78172d",
   "metadata": {},
   "outputs": [
    {
     "data": {
      "text/plain": [
       "array([0.1, 0.1, 0.1, 0.1, 0.1, 0.1, 0.1, 0.1, 0.1, 0.1])"
      ]
     },
     "execution_count": 42,
     "metadata": {},
     "output_type": "execute_result"
    }
   ],
   "source": [
    "#Create weights (Assuming equal weights for the portfolio)\n",
    "n = 1.0 / float(num_assets)\n",
    "weights = [n] * num_assets\n",
    "weights = np.array(weights)\n",
    "weights"
   ]
  },
  {
   "cell_type": "code",
   "execution_count": 43,
   "id": "97d9d126",
   "metadata": {},
   "outputs": [
    {
     "data": {
      "text/html": [
       "<div>\n",
       "<style scoped>\n",
       "    .dataframe tbody tr th:only-of-type {\n",
       "        vertical-align: middle;\n",
       "    }\n",
       "\n",
       "    .dataframe tbody tr th {\n",
       "        vertical-align: top;\n",
       "    }\n",
       "\n",
       "    .dataframe thead th {\n",
       "        text-align: right;\n",
       "    }\n",
       "</style>\n",
       "<table border=\"1\" class=\"dataframe\">\n",
       "  <thead>\n",
       "    <tr style=\"text-align: right;\">\n",
       "      <th></th>\n",
       "      <th>BOPP</th>\n",
       "      <th>CAL</th>\n",
       "      <th>CMLT</th>\n",
       "      <th>CPC</th>\n",
       "      <th>GCB</th>\n",
       "      <th>GGBL</th>\n",
       "      <th>SIC</th>\n",
       "      <th>SOGEGH</th>\n",
       "      <th>TOTAL</th>\n",
       "      <th>TLW</th>\n",
       "    </tr>\n",
       "  </thead>\n",
       "  <tbody>\n",
       "    <tr>\n",
       "      <th>BOPP</th>\n",
       "      <td>0.446574</td>\n",
       "      <td>-0.068981</td>\n",
       "      <td>0.003785</td>\n",
       "      <td>0.000622</td>\n",
       "      <td>-0.035881</td>\n",
       "      <td>0.144360</td>\n",
       "      <td>-0.058338</td>\n",
       "      <td>0.129518</td>\n",
       "      <td>0.264438</td>\n",
       "      <td>0.000184</td>\n",
       "    </tr>\n",
       "    <tr>\n",
       "      <th>CAL</th>\n",
       "      <td>-0.068981</td>\n",
       "      <td>0.139554</td>\n",
       "      <td>0.001745</td>\n",
       "      <td>-0.003400</td>\n",
       "      <td>0.008667</td>\n",
       "      <td>-0.030758</td>\n",
       "      <td>0.012274</td>\n",
       "      <td>-0.027618</td>\n",
       "      <td>-0.051347</td>\n",
       "      <td>0.000247</td>\n",
       "    </tr>\n",
       "    <tr>\n",
       "      <th>CMLT</th>\n",
       "      <td>0.003785</td>\n",
       "      <td>0.001745</td>\n",
       "      <td>0.024481</td>\n",
       "      <td>-0.000147</td>\n",
       "      <td>-0.000213</td>\n",
       "      <td>0.000410</td>\n",
       "      <td>0.002148</td>\n",
       "      <td>0.000633</td>\n",
       "      <td>-0.000245</td>\n",
       "      <td>0.000013</td>\n",
       "    </tr>\n",
       "    <tr>\n",
       "      <th>CPC</th>\n",
       "      <td>0.000622</td>\n",
       "      <td>-0.003400</td>\n",
       "      <td>-0.000147</td>\n",
       "      <td>1.568145</td>\n",
       "      <td>0.017794</td>\n",
       "      <td>0.017340</td>\n",
       "      <td>0.036918</td>\n",
       "      <td>-0.012584</td>\n",
       "      <td>-0.003212</td>\n",
       "      <td>0.005340</td>\n",
       "    </tr>\n",
       "    <tr>\n",
       "      <th>GCB</th>\n",
       "      <td>-0.035881</td>\n",
       "      <td>0.008667</td>\n",
       "      <td>-0.000213</td>\n",
       "      <td>0.017794</td>\n",
       "      <td>0.053032</td>\n",
       "      <td>-0.014858</td>\n",
       "      <td>0.007559</td>\n",
       "      <td>-0.014648</td>\n",
       "      <td>-0.025695</td>\n",
       "      <td>0.000243</td>\n",
       "    </tr>\n",
       "    <tr>\n",
       "      <th>GGBL</th>\n",
       "      <td>0.144360</td>\n",
       "      <td>-0.030758</td>\n",
       "      <td>0.000410</td>\n",
       "      <td>0.017340</td>\n",
       "      <td>-0.014858</td>\n",
       "      <td>0.114694</td>\n",
       "      <td>-0.024624</td>\n",
       "      <td>0.055445</td>\n",
       "      <td>0.105852</td>\n",
       "      <td>0.000048</td>\n",
       "    </tr>\n",
       "    <tr>\n",
       "      <th>SIC</th>\n",
       "      <td>-0.058338</td>\n",
       "      <td>0.012274</td>\n",
       "      <td>0.002148</td>\n",
       "      <td>0.036918</td>\n",
       "      <td>0.007559</td>\n",
       "      <td>-0.024624</td>\n",
       "      <td>0.201774</td>\n",
       "      <td>-0.018749</td>\n",
       "      <td>-0.048402</td>\n",
       "      <td>0.000175</td>\n",
       "    </tr>\n",
       "    <tr>\n",
       "      <th>SOGEGH</th>\n",
       "      <td>0.129518</td>\n",
       "      <td>-0.027618</td>\n",
       "      <td>0.000633</td>\n",
       "      <td>-0.012584</td>\n",
       "      <td>-0.014648</td>\n",
       "      <td>0.055445</td>\n",
       "      <td>-0.018749</td>\n",
       "      <td>0.115792</td>\n",
       "      <td>0.093488</td>\n",
       "      <td>-0.000409</td>\n",
       "    </tr>\n",
       "    <tr>\n",
       "      <th>TOTAL</th>\n",
       "      <td>0.264438</td>\n",
       "      <td>-0.051347</td>\n",
       "      <td>-0.000245</td>\n",
       "      <td>-0.003212</td>\n",
       "      <td>-0.025695</td>\n",
       "      <td>0.105852</td>\n",
       "      <td>-0.048402</td>\n",
       "      <td>0.093488</td>\n",
       "      <td>0.267165</td>\n",
       "      <td>-0.000226</td>\n",
       "    </tr>\n",
       "    <tr>\n",
       "      <th>TLW</th>\n",
       "      <td>0.000184</td>\n",
       "      <td>0.000247</td>\n",
       "      <td>0.000013</td>\n",
       "      <td>0.005340</td>\n",
       "      <td>0.000243</td>\n",
       "      <td>0.000048</td>\n",
       "      <td>0.000175</td>\n",
       "      <td>-0.000409</td>\n",
       "      <td>-0.000226</td>\n",
       "      <td>0.021063</td>\n",
       "    </tr>\n",
       "  </tbody>\n",
       "</table>\n",
       "</div>"
      ],
      "text/plain": [
       "            BOPP       CAL      CMLT       CPC       GCB      GGBL       SIC  \\\n",
       "BOPP    0.446574 -0.068981  0.003785  0.000622 -0.035881  0.144360 -0.058338   \n",
       "CAL    -0.068981  0.139554  0.001745 -0.003400  0.008667 -0.030758  0.012274   \n",
       "CMLT    0.003785  0.001745  0.024481 -0.000147 -0.000213  0.000410  0.002148   \n",
       "CPC     0.000622 -0.003400 -0.000147  1.568145  0.017794  0.017340  0.036918   \n",
       "GCB    -0.035881  0.008667 -0.000213  0.017794  0.053032 -0.014858  0.007559   \n",
       "GGBL    0.144360 -0.030758  0.000410  0.017340 -0.014858  0.114694 -0.024624   \n",
       "SIC    -0.058338  0.012274  0.002148  0.036918  0.007559 -0.024624  0.201774   \n",
       "SOGEGH  0.129518 -0.027618  0.000633 -0.012584 -0.014648  0.055445 -0.018749   \n",
       "TOTAL   0.264438 -0.051347 -0.000245 -0.003212 -0.025695  0.105852 -0.048402   \n",
       "TLW     0.000184  0.000247  0.000013  0.005340  0.000243  0.000048  0.000175   \n",
       "\n",
       "          SOGEGH     TOTAL       TLW  \n",
       "BOPP    0.129518  0.264438  0.000184  \n",
       "CAL    -0.027618 -0.051347  0.000247  \n",
       "CMLT    0.000633 -0.000245  0.000013  \n",
       "CPC    -0.012584 -0.003212  0.005340  \n",
       "GCB    -0.014648 -0.025695  0.000243  \n",
       "GGBL    0.055445  0.105852  0.000048  \n",
       "SIC    -0.018749 -0.048402  0.000175  \n",
       "SOGEGH  0.115792  0.093488 -0.000409  \n",
       "TOTAL   0.093488  0.267165 -0.000226  \n",
       "TLW    -0.000409 -0.000226  0.021063  "
      ]
     },
     "execution_count": 43,
     "metadata": {},
     "output_type": "execute_result"
    }
   ],
   "source": [
    "cov_matrix_annual = daily_simple_returns.cov() * 252\n",
    "cov_matrix_annual"
   ]
  },
  {
   "cell_type": "code",
   "execution_count": 44,
   "id": "0ae4f07a",
   "metadata": {},
   "outputs": [
    {
     "name": "stdout",
     "output_type": "stream",
     "text": [
      "3.89%\n"
     ]
    }
   ],
   "source": [
    "#Calculate and show the annual variance \n",
    "port_variance = np.dot(weights.T, np.dot(cov_matrix_annual, weights))\n",
    "\n",
    "#Show the port_variance as a percentage \n",
    "print(str(round(port_variance * 100, 2))+'%')"
   ]
  },
  {
   "cell_type": "code",
   "execution_count": 45,
   "id": "9e7defa5",
   "metadata": {},
   "outputs": [
    {
     "name": "stdout",
     "output_type": "stream",
     "text": [
      "12.4%\n"
     ]
    }
   ],
   "source": [
    "#Calculate and show the expected returns\n",
    "port_expected_returns = np.sum(weights * annual_returns) \n",
    "print(str(round(port_expected_returns * 100, 2))+'%')"
   ]
  },
  {
   "cell_type": "code",
   "execution_count": 46,
   "id": "bbc2fc52",
   "metadata": {},
   "outputs": [
    {
     "name": "stdout",
     "output_type": "stream",
     "text": [
      "19.72%\n"
     ]
    }
   ],
   "source": [
    "port_volatility = np.sqrt(port_variance)\n",
    "print(str(round(port_volatility * 100, 2))+'%')"
   ]
  },
  {
   "cell_type": "code",
   "execution_count": 47,
   "id": "68f5539d",
   "metadata": {},
   "outputs": [
    {
     "name": "stdout",
     "output_type": "stream",
     "text": [
      "0.63\n"
     ]
    }
   ],
   "source": [
    "\n",
    "risk_free_rate = 0.25\n",
    "\n",
    "sharpe_ratio = (port_expected_returns ) / port_volatility\n",
    "print(round( sharpe_ratio, 2))  "
   ]
  },
  {
   "cell_type": "code",
   "execution_count": 52,
   "id": "67f18e44",
   "metadata": {},
   "outputs": [
    {
     "data": {
      "image/png": "[encoded data removed]",
      "text/plain": [
       "<Figure size 600x500 with 2 Axes>"
      ]
     },
     "metadata": {},
     "output_type": "display_data"
    }
   ],
   "source": [
    "fig, ax = plt.subplots(figsize=(6,5))\n",
    "sns.heatmap(portfolio1.corr(), annot=True, cmap='coolwarm')\n",
    "plt.title('CORRELATION MATRIX')\n",
    "plt.show()"
   ]
  },
  {
   "cell_type": "code",
   "execution_count": 53,
   "id": "ceba6076",
   "metadata": {},
   "outputs": [
    {
     "data": {
      "text/html": [
       "<div>\n",
       "<style scoped>\n",
       "    .dataframe tbody tr th:only-of-type {\n",
       "        vertical-align: middle;\n",
       "    }\n",
       "\n",
       "    .dataframe tbody tr th {\n",
       "        vertical-align: top;\n",
       "    }\n",
       "\n",
       "    .dataframe thead th {\n",
       "        text-align: right;\n",
       "    }\n",
       "</style>\n",
       "<table border=\"1\" class=\"dataframe\">\n",
       "  <thead>\n",
       "    <tr style=\"text-align: right;\">\n",
       "      <th></th>\n",
       "      <th>BOPP</th>\n",
       "      <th>CAL</th>\n",
       "      <th>CMLT</th>\n",
       "      <th>CPC</th>\n",
       "      <th>GCB</th>\n",
       "      <th>GGBL</th>\n",
       "      <th>SIC</th>\n",
       "      <th>SOGEGH</th>\n",
       "      <th>TOTAL</th>\n",
       "      <th>TLW</th>\n",
       "    </tr>\n",
       "  </thead>\n",
       "  <tbody>\n",
       "    <tr>\n",
       "      <th>count</th>\n",
       "      <td>2526.000000</td>\n",
       "      <td>2526.000000</td>\n",
       "      <td>2526.000000</td>\n",
       "      <td>2526.000000</td>\n",
       "      <td>2526.000000</td>\n",
       "      <td>2526.000000</td>\n",
       "      <td>2526.000000</td>\n",
       "      <td>2526.000000</td>\n",
       "      <td>2526.000000</td>\n",
       "      <td>2526.000000</td>\n",
       "    </tr>\n",
       "    <tr>\n",
       "      <th>mean</th>\n",
       "      <td>5.509359</td>\n",
       "      <td>0.859675</td>\n",
       "      <td>0.114283</td>\n",
       "      <td>0.019842</td>\n",
       "      <td>4.413200</td>\n",
       "      <td>2.276591</td>\n",
       "      <td>0.196726</td>\n",
       "      <td>0.937862</td>\n",
       "      <td>4.537858</td>\n",
       "      <td>18.795186</td>\n",
       "    </tr>\n",
       "    <tr>\n",
       "      <th>std</th>\n",
       "      <td>4.488406</td>\n",
       "      <td>0.218686</td>\n",
       "      <td>0.017242</td>\n",
       "      <td>0.004622</td>\n",
       "      <td>0.632758</td>\n",
       "      <td>1.089418</td>\n",
       "      <td>0.112157</td>\n",
       "      <td>0.320383</td>\n",
       "      <td>1.786241</td>\n",
       "      <td>8.905228</td>\n",
       "    </tr>\n",
       "    <tr>\n",
       "      <th>min</th>\n",
       "      <td>2.000000</td>\n",
       "      <td>0.420000</td>\n",
       "      <td>0.090000</td>\n",
       "      <td>0.010000</td>\n",
       "      <td>2.950000</td>\n",
       "      <td>0.900000</td>\n",
       "      <td>0.070000</td>\n",
       "      <td>0.570000</td>\n",
       "      <td>1.970000</td>\n",
       "      <td>11.920000</td>\n",
       "    </tr>\n",
       "    <tr>\n",
       "      <th>25%</th>\n",
       "      <td>2.850000</td>\n",
       "      <td>0.740000</td>\n",
       "      <td>0.100000</td>\n",
       "      <td>0.020000</td>\n",
       "      <td>3.950000</td>\n",
       "      <td>1.600000</td>\n",
       "      <td>0.100000</td>\n",
       "      <td>0.730000</td>\n",
       "      <td>3.000000</td>\n",
       "      <td>11.920000</td>\n",
       "    </tr>\n",
       "    <tr>\n",
       "      <th>50%</th>\n",
       "      <td>4.100000</td>\n",
       "      <td>0.840000</td>\n",
       "      <td>0.110000</td>\n",
       "      <td>0.020000</td>\n",
       "      <td>4.413200</td>\n",
       "      <td>2.050000</td>\n",
       "      <td>0.150000</td>\n",
       "      <td>0.840000</td>\n",
       "      <td>4.250000</td>\n",
       "      <td>11.940000</td>\n",
       "    </tr>\n",
       "    <tr>\n",
       "      <th>75%</th>\n",
       "      <td>6.340000</td>\n",
       "      <td>0.990000</td>\n",
       "      <td>0.120000</td>\n",
       "      <td>0.020000</td>\n",
       "      <td>4.950000</td>\n",
       "      <td>2.550000</td>\n",
       "      <td>0.260000</td>\n",
       "      <td>1.030000</td>\n",
       "      <td>5.457500</td>\n",
       "      <td>27.880000</td>\n",
       "    </tr>\n",
       "    <tr>\n",
       "      <th>max</th>\n",
       "      <td>22.000000</td>\n",
       "      <td>1.970000</td>\n",
       "      <td>0.160000</td>\n",
       "      <td>0.030000</td>\n",
       "      <td>5.850000</td>\n",
       "      <td>6.200000</td>\n",
       "      <td>0.520000</td>\n",
       "      <td>2.400000</td>\n",
       "      <td>9.500000</td>\n",
       "      <td>36.000000</td>\n",
       "    </tr>\n",
       "  </tbody>\n",
       "</table>\n",
       "</div>"
      ],
      "text/plain": [
       "              BOPP          CAL         CMLT          CPC          GCB  \\\n",
       "count  2526.000000  2526.000000  2526.000000  2526.000000  2526.000000   \n",
       "mean      5.509359     0.859675     0.114283     0.019842     4.413200   \n",
       "std       4.488406     0.218686     0.017242     0.004622     0.632758   \n",
       "min       2.000000     0.420000     0.090000     0.010000     2.950000   \n",
       "25%       2.850000     0.740000     0.100000     0.020000     3.950000   \n",
       "50%       4.100000     0.840000     0.110000     0.020000     4.413200   \n",
       "75%       6.340000     0.990000     0.120000     0.020000     4.950000   \n",
       "max      22.000000     1.970000     0.160000     0.030000     5.850000   \n",
       "\n",
       "              GGBL          SIC       SOGEGH        TOTAL          TLW  \n",
       "count  2526.000000  2526.000000  2526.000000  2526.000000  2526.000000  \n",
       "mean      2.276591     0.196726     0.937862     4.537858    18.795186  \n",
       "std       1.089418     0.112157     0.320383     1.786241     8.905228  \n",
       "min       0.900000     0.070000     0.570000     1.970000    11.920000  \n",
       "25%       1.600000     0.100000     0.730000     3.000000    11.920000  \n",
       "50%       2.050000     0.150000     0.840000     4.250000    11.940000  \n",
       "75%       2.550000     0.260000     1.030000     5.457500    27.880000  \n",
       "max       6.200000     0.520000     2.400000     9.500000    36.000000  "
      ]
     },
     "execution_count": 53,
     "metadata": {},
     "output_type": "execute_result"
    }
   ],
   "source": [
    "portfolio.describe()"
   ]
  },
  {
   "cell_type": "code",
   "execution_count": null,
   "id": "f9d9ed53",
   "metadata": {},
   "outputs": [],
   "source": []
  }
 ],
 "metadata": {
  "kernelspec": {
   "display_name": "Python 3 (ipykernel)",
   "language": "python",
   "name": "python3"
  },
  "language_info": {
   "codemirror_mode": {
    "name": "ipython",
    "version": 3
   },
   "file_extension": ".py",
   "mimetype": "text/x-python",
   "name": "python",
   "nbconvert_exporter": "python",
   "pygments_lexer": "ipython3",
   "version": "3.9.13"
  }
 },
 "nbformat": 4,
 "nbformat_minor": 5
}
